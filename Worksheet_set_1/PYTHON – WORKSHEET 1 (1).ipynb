{
 "cells": [
  {
   "cell_type": "markdown",
   "id": "54b39ce4",
   "metadata": {},
   "source": [
    "# 1. Which of the following operators is used to calculate remainder in a division?\n",
    "\n",
    "A) # B) &\n",
    "C) % D) $\n",
    "\n",
    "\n",
    "Answer: C) %"
   ]
  },
  {
   "cell_type": "markdown",
   "id": "b3ab1917",
   "metadata": {},
   "source": [
    "# 2. In python 2//3 is equal to?\n",
    "A) 0.666 B) 0\n",
    "C) 1 D) 0.67\n",
    "\n",
    "Answer: B) 0\n",
    "\n",
    "Explanation : // is use for int value and / is use for Float value"
   ]
  },
  {
   "cell_type": "markdown",
   "id": "fd4f1d79",
   "metadata": {},
   "source": [
    "# 3. In python, 6<<2 is equal to?\n",
    "A) 36 B) 10\n",
    "C) 24 D) 45\n",
    "\n",
    "Answer: C) 24\n",
    "\n",
    "Explanation: by usingthis formula x*2**y. The << operator shifts the left-hand value"
   ]
  },
  {
   "cell_type": "markdown",
   "id": "0df0a75b",
   "metadata": {},
   "source": [
    "# 4. In python, 6&2 will give which of the following as output?\n",
    "A) 2 B) True\n",
    "C) False D) 0\n",
    "\n",
    "Answer: A) 2\n",
    "\n",
    "Explaination: And(&) operator\n",
    "\n",
    "6  =0110\n",
    "2  =0010\n",
    "o/P=0010"
   ]
  },
  {
   "cell_type": "markdown",
   "id": "e87bb13b",
   "metadata": {},
   "source": [
    "# 5. In python, 6|2 will give which of the following as output?\n",
    "A) 2 B) 4\n",
    "C) 0 D) 6\n",
    "\n",
    "Answer: A) 2\n",
    "\n",
    "Explaination: OR(/) operator\n",
    "\n",
    "6  =0110\n",
    "2  =0010\n",
    "o/P=0110"
   ]
  },
  {
   "cell_type": "markdown",
   "id": "22fb8fc0",
   "metadata": {},
   "source": [
    "# 6. What does the finally keyword denotes in python?\n",
    "A) It is used to mark the end of the code\n",
    "B) It encloses the lines of code which will be executed if any error occurs while executing the lines of code in the try block.\n",
    "C) the finally block will be executed no matter if the try block raises an error or not.\n",
    "D) None of the above\n",
    "\n",
    "Answer: C) the finally block will be executed no matter if the try block raises an error or not."
   ]
  },
  {
   "cell_type": "markdown",
   "id": "c91e2095",
   "metadata": {},
   "source": [
    "# 7. What does raise keyword is used for in python?\n",
    "A) It is used to raise an exception. B) It is used to define lambda function\n",
    "C) it's not a keyword in python. D) None of the above\n",
    "\n",
    "Answer:A) It is used to raise an exception."
   ]
  },
  {
   "cell_type": "markdown",
   "id": "94233e3e",
   "metadata": {},
   "source": [
    "# 8. Which of the following is a common use case of yield keyword in python?\n",
    "A) in defining an iterator B) while defining a lambda function\n",
    "C) in defining a generator D) in for loop.\n",
    "\n",
    "C) in defining a generator"
   ]
  },
  {
   "cell_type": "markdown",
   "id": "defbdb8e",
   "metadata": {},
   "source": [
    "# 9. Which of the following are the valid variable names?\n",
    "A) _abc B) 1abc\n",
    "C) abc2 D) None of the above\n",
    "\n",
    "Answer:A)_abc , C)abc2 "
   ]
  },
  {
   "cell_type": "markdown",
   "id": "07553f7b",
   "metadata": {},
   "source": [
    "# 10. Which of the following are the keywords in python?\n",
    "A) yield B) raise\n",
    "C) look-in D) all of the above\n",
    "\n",
    "Answer: A) yield , B) raise"
   ]
  },
  {
   "cell_type": "markdown",
   "id": "fbfcc2cb",
   "metadata": {},
   "source": [
    "# 11. Write a python program to find the factorial of a number."
   ]
  },
  {
   "cell_type": "code",
   "execution_count": 21,
   "id": "d3af5150",
   "metadata": {},
   "outputs": [
    {
     "name": "stdout",
     "output_type": "stream",
     "text": [
      "Enter the Number5\n",
      "The factorial of 5 is 120\n"
     ]
    }
   ],
   "source": [
    "n= int(input(\"Enter the Number\"))\n",
    "\n",
    "fact=1\n",
    "\n",
    "if n<fact:\n",
    "    print(\"negative number factorial not exixts\")\n",
    "if n==0:\n",
    "    print(\"fatorial of zero is 1\")\n",
    "\n",
    "if(n>fact):\n",
    "    for i in range(1,n+1):\n",
    "        fact=fact*i\n",
    "print(\"The factorial of\",n,\"is\",fact)"
   ]
  },
  {
   "cell_type": "markdown",
   "id": "e9abddd7",
   "metadata": {},
   "source": [
    "# 12. Write a python program to find whether a number is prime or composite."
   ]
  },
  {
   "cell_type": "code",
   "execution_count": 13,
   "id": "de82f4ce",
   "metadata": {},
   "outputs": [
    {
     "name": "stdout",
     "output_type": "stream",
     "text": [
      "Enter the Number: 12\n",
      "prime\n",
      "not composite\n"
     ]
    }
   ],
   "source": [
    "n= int(input(\"Enter the Number: \"))\n",
    "\n",
    "if n%2==0:\n",
    "    print(\"prime\")\n",
    "if(n>1):   \n",
    "    for i in range(2,n):\n",
    "        if n%i==0:\n",
    "            print(\"not composite\")\n",
    "            break\n",
    "    else:\n",
    "        print(\"composite\")       \n"
   ]
  },
  {
   "cell_type": "markdown",
   "id": "166a3756",
   "metadata": {},
   "source": [
    "# 13. Write a python program to check whether a given string is palindrome or not."
   ]
  },
  {
   "cell_type": "code",
   "execution_count": 51,
   "id": "61aeef88",
   "metadata": {},
   "outputs": [
    {
     "name": "stdout",
     "output_type": "stream",
     "text": [
      "Enter the String: madam\n",
      "madam\n",
      "Palindrome\n"
     ]
    }
   ],
   "source": [
    "n= str(input(\"Enter the String: \"))\n",
    "\n",
    "stri=''\n",
    "for i in n[::-1]:\n",
    "    stri=stri+i\n",
    "print(stri)\n",
    "\n",
    "if n==stri:\n",
    "    print(\"Palindrome\")\n",
    "else:\n",
    "    print(\"Not Palindrome\")"
   ]
  },
  {
   "cell_type": "markdown",
   "id": "20438935",
   "metadata": {},
   "source": [
    "# 14. Write a Python program to get the third side of right-angled triangle from two given sides."
   ]
  },
  {
   "cell_type": "code",
   "execution_count": 82,
   "id": "9824ff59",
   "metadata": {},
   "outputs": [
    {
     "name": "stdout",
     "output_type": "stream",
     "text": [
      "Hypotenuse= 5.0\n",
      "adjacent= 3.0\n",
      "opposite= 4.0\n"
     ]
    }
   ],
   "source": [
    " def rightt(a,b,c):\n",
    "    if c==str(\"x\"):\n",
    "        return (\"Hypotenuse= \"+str((a**2+b**2)**0.5))\n",
    "   \n",
    "    elif b==str(\"x\"):\n",
    "        return (\"adjacent= \"+str((c**2-a**2)**0.5))\n",
    "    \n",
    "    elif a==str(\"x\"):\n",
    "        return (\"opposite= \"+str((c**2-b**2)**0.5))\n",
    "\n",
    "\n",
    "print(rightt(4,3,\"x\"))\n",
    "print(rightt(4,\"x\",5))\n",
    "print(rightt(\"x\",3,5))"
   ]
  },
  {
   "cell_type": "markdown",
   "id": "1f14cc11",
   "metadata": {},
   "source": [
    "# 15. Write a python program to print the frequency of each of the characters present in a given string."
   ]
  },
  {
   "cell_type": "code",
   "execution_count": 145,
   "id": "557c78e4",
   "metadata": {},
   "outputs": [
    {
     "name": "stdout",
     "output_type": "stream",
     "text": [
      "Enter the String: agagag\n",
      "{'a': 3, 'g': 3}\n"
     ]
    }
   ],
   "source": [
    "a= str(input(\"Enter the String: \"))\n",
    "\n",
    "temp={}\n",
    "for i in a:\n",
    "    if i in temp:\n",
    "        temp[i]+= 1\n",
    "    else:\n",
    "        temp[i]=1\n",
    "print (temp)     "
   ]
  }
 ],
 "metadata": {
  "kernelspec": {
   "display_name": "Python 3",
   "language": "python",
   "name": "python3"
  },
  "language_info": {
   "codemirror_mode": {
    "name": "ipython",
    "version": 3
   },
   "file_extension": ".py",
   "mimetype": "text/x-python",
   "name": "python",
   "nbconvert_exporter": "python",
   "pygments_lexer": "ipython3",
   "version": "3.8.8"
  }
 },
 "nbformat": 4,
 "nbformat_minor": 5
}
